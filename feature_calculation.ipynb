{
 "cells": [
  {
   "cell_type": "code",
   "execution_count": null,
   "id": "b4602054",
   "metadata": {},
   "outputs": [],
   "source": [
    "import os\n",
    "import json\n",
    "import numpy as np\n",
    "import pandas as pd\n",
    "from tqdm import tqdm\n",
    "import scipy.stats as stats\n",
    "import pickle\n",
    "import zipfile as zf\n",
    "\n",
    "# import sys\n",
    "# sys.path.append(\"../常模\")\n",
    "from func import get_angles_and_velocities, get_final_df"
   ]
  },
  {
   "cell_type": "markdown",
   "id": "0e403f87",
   "metadata": {},
   "source": [
    "# 讀資料擴增後的檔案"
   ]
  },
  {
   "cell_type": "code",
   "execution_count": null,
   "id": "362d29de",
   "metadata": {},
   "outputs": [],
   "source": [
    "v_type = \"abnormal\"\n",
    "aug_type = \"v8\"\n",
    "\n",
    "folder_path = f\"../20250615/data2Motion_{v_type}_clip_{aug_type}_all\"\n",
    "combined_data = {}\n",
    "\n",
    "for filename in os.listdir(folder_path):\n",
    "    if filename.endswith('.pkl'):\n",
    "        file_path = os.path.join(folder_path, filename)\n",
    "        # print(file_path)\n",
    "        # 讀取 pickle 檔案\n",
    "        with open(file_path, 'rb') as file:\n",
    "            data = pickle.load(file)\n",
    "\n",
    "        # filtered_data = {k: v for k, v in data.items() if k != \"94_N_F_0.9Y_3(Mosaic)-json\"}\n",
    "        if \"annotations\" in data and len(data[\"annotations\"]) > 0:\n",
    "            frame_dir = data[\"annotations\"][0].get(\"frame_dir\")\n",
    "            keypoint = data[\"annotations\"][0].get(\"keypoint\")\n",
    "\n",
    "            if frame_dir is not None and keypoint is not None:\n",
    "                combined_data[frame_dir] = keypoint\n",
    "\n",
    "all_dir = combined_data.keys()\n",
    "all_dir = list(all_dir)\n",
    "print(all_dir)"
   ]
  },
  {
   "cell_type": "code",
   "execution_count": null,
   "id": "79c67abe",
   "metadata": {},
   "outputs": [],
   "source": [
    "grouped_positions_dict = {}  # 儲存所有嬰兒的關鍵點數據\n",
    "\n",
    "for idx, children_dir in tqdm(enumerate(all_dir), total=len(all_dir)):\n",
    "    grouped_positions = []  # 單個嬰兒的關鍵點數據\n",
    "    for frame in range(len(combined_data[all_dir[idx]][0])):\n",
    "        temp = {}\n",
    "        for j in range(len(combined_data[all_dir[idx]][0][frame])):\n",
    "            grouped_positions_data = {j: list(combined_data[all_dir[idx]][0][frame][j].tolist())}\n",
    "            temp.update(grouped_positions_data)\n",
    "        grouped_positions.append(temp)\n",
    "\n",
    "    grouped_positions_dict[children_dir] = grouped_positions"
   ]
  },
  {
   "cell_type": "code",
   "execution_count": null,
   "id": "e817484c",
   "metadata": {},
   "outputs": [],
   "source": [
    "# grouped_positions_dict['376_N_PWS_M_24.29WKS_5-0040']"
   ]
  },
  {
   "cell_type": "markdown",
   "id": "8d85d3b1",
   "metadata": {},
   "source": [
    "# 開始計算指標"
   ]
  },
  {
   "cell_type": "code",
   "execution_count": null,
   "id": "b77ec97b",
   "metadata": {},
   "outputs": [],
   "source": [
    "all_angles_dict, all_velocities_dict = get_angles_and_velocities(grouped_positions_dict, all_dir, start_idx=0)"
   ]
  },
  {
   "cell_type": "markdown",
   "id": "7af22344",
   "metadata": {},
   "source": [
    "final_df = get_final_df(all_angles_dict, all_velocities_dict, all_dir, start_idx=0)"
   ]
  },
  {
   "cell_type": "code",
   "execution_count": null,
   "id": "0ad886fb",
   "metadata": {},
   "outputs": [],
   "source": [
    "for col in final_df.columns:\n",
    "    if col.startswith(\"right_\"):\n",
    "        suffix = col[len(\"right_\"):]  # 取得 like \"elbow_angles\"\n",
    "        # print(suffix)\n",
    "        left_col = f\"left_{suffix}\"\n",
    "        print(col, left_col)\n",
    "        if left_col in final_df.columns:\n",
    "            lr_col = f\"LR_{suffix}\"\n",
    "            final_df[lr_col] = (final_df[col] - final_df[left_col]).abs()"
   ]
  }
 ],
 "metadata": {
  "language_info": {
   "name": "python"
  }
 },
 "nbformat": 4,
 "nbformat_minor": 5
}
